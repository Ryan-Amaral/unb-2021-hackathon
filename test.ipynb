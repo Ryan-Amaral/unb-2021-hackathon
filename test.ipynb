{
 "cells": [
  {
   "cell_type": "code",
   "execution_count": 1,
   "id": "cd35efca",
   "metadata": {},
   "outputs": [],
   "source": [
    "import pandas as pd\n",
    "import numpy as np\n",
    "import matplotlib.pyplot as plt"
   ]
  },
  {
   "cell_type": "code",
   "execution_count": 2,
   "id": "617a55dd",
   "metadata": {},
   "outputs": [],
   "source": [
    "df5 = pd.read_csv(\"noshock-5.csv\")\n",
    "df60 = pd.read_csv(\"noshock-60.csv\")\n",
    "df = pd.concat([df5, df60], ignore_index=True)\n",
    "\n",
    "df_pop = pd.read_csv(\"pop.csv\")\n",
    "\n",
    "df_veh = pd.read_csv(\"veh-reg.csv\")"
   ]
  },
  {
   "cell_type": "code",
   "execution_count": 3,
   "id": "9f79cdfc",
   "metadata": {},
   "outputs": [
    {
     "data": {
      "text/html": [
       "<div>\n",
       "<style scoped>\n",
       "    .dataframe tbody tr th:only-of-type {\n",
       "        vertical-align: middle;\n",
       "    }\n",
       "\n",
       "    .dataframe tbody tr th {\n",
       "        vertical-align: top;\n",
       "    }\n",
       "\n",
       "    .dataframe thead th {\n",
       "        text-align: right;\n",
       "    }\n",
       "</style>\n",
       "<table border=\"1\" class=\"dataframe\">\n",
       "  <thead>\n",
       "    <tr style=\"text-align: right;\">\n",
       "      <th></th>\n",
       "      <th>location_id</th>\n",
       "      <th>location_name</th>\n",
       "      <th>sex_id</th>\n",
       "      <th>sex_name</th>\n",
       "      <th>age_group_id</th>\n",
       "      <th>age_group_name</th>\n",
       "      <th>year_id</th>\n",
       "      <th>measure_id</th>\n",
       "      <th>measure_name</th>\n",
       "      <th>metric_id</th>\n",
       "      <th>metric_name</th>\n",
       "      <th>val</th>\n",
       "      <th>upper</th>\n",
       "      <th>lower</th>\n",
       "    </tr>\n",
       "  </thead>\n",
       "  <tbody>\n",
       "    <tr>\n",
       "      <th>0</th>\n",
       "      <td>1</td>\n",
       "      <td>Global</td>\n",
       "      <td>1</td>\n",
       "      <td>male</td>\n",
       "      <td>1</td>\n",
       "      <td>Under 5</td>\n",
       "      <td>1950</td>\n",
       "      <td>33</td>\n",
       "      <td>Probability of death no-shock with hiv</td>\n",
       "      <td>8</td>\n",
       "      <td>Probability of death</td>\n",
       "      <td>0.211479</td>\n",
       "      <td>0.233700</td>\n",
       "      <td>0.191125</td>\n",
       "    </tr>\n",
       "    <tr>\n",
       "      <th>1</th>\n",
       "      <td>1</td>\n",
       "      <td>Global</td>\n",
       "      <td>1</td>\n",
       "      <td>male</td>\n",
       "      <td>1</td>\n",
       "      <td>Under 5</td>\n",
       "      <td>1951</td>\n",
       "      <td>33</td>\n",
       "      <td>Probability of death no-shock with hiv</td>\n",
       "      <td>8</td>\n",
       "      <td>Probability of death</td>\n",
       "      <td>0.208153</td>\n",
       "      <td>0.230490</td>\n",
       "      <td>0.189132</td>\n",
       "    </tr>\n",
       "    <tr>\n",
       "      <th>2</th>\n",
       "      <td>1</td>\n",
       "      <td>Global</td>\n",
       "      <td>1</td>\n",
       "      <td>male</td>\n",
       "      <td>1</td>\n",
       "      <td>Under 5</td>\n",
       "      <td>1952</td>\n",
       "      <td>33</td>\n",
       "      <td>Probability of death no-shock with hiv</td>\n",
       "      <td>8</td>\n",
       "      <td>Probability of death</td>\n",
       "      <td>0.203444</td>\n",
       "      <td>0.224038</td>\n",
       "      <td>0.184705</td>\n",
       "    </tr>\n",
       "    <tr>\n",
       "      <th>3</th>\n",
       "      <td>1</td>\n",
       "      <td>Global</td>\n",
       "      <td>1</td>\n",
       "      <td>male</td>\n",
       "      <td>1</td>\n",
       "      <td>Under 5</td>\n",
       "      <td>1953</td>\n",
       "      <td>33</td>\n",
       "      <td>Probability of death no-shock with hiv</td>\n",
       "      <td>8</td>\n",
       "      <td>Probability of death</td>\n",
       "      <td>0.199828</td>\n",
       "      <td>0.219155</td>\n",
       "      <td>0.181873</td>\n",
       "    </tr>\n",
       "    <tr>\n",
       "      <th>4</th>\n",
       "      <td>1</td>\n",
       "      <td>Global</td>\n",
       "      <td>1</td>\n",
       "      <td>male</td>\n",
       "      <td>1</td>\n",
       "      <td>Under 5</td>\n",
       "      <td>1954</td>\n",
       "      <td>33</td>\n",
       "      <td>Probability of death no-shock with hiv</td>\n",
       "      <td>8</td>\n",
       "      <td>Probability of death</td>\n",
       "      <td>0.196090</td>\n",
       "      <td>0.214379</td>\n",
       "      <td>0.178952</td>\n",
       "    </tr>\n",
       "  </tbody>\n",
       "</table>\n",
       "</div>"
      ],
      "text/plain": [
       "   location_id location_name  sex_id sex_name  age_group_id age_group_name  \\\n",
       "0            1        Global       1     male             1        Under 5   \n",
       "1            1        Global       1     male             1        Under 5   \n",
       "2            1        Global       1     male             1        Under 5   \n",
       "3            1        Global       1     male             1        Under 5   \n",
       "4            1        Global       1     male             1        Under 5   \n",
       "\n",
       "   year_id  measure_id                            measure_name  metric_id  \\\n",
       "0     1950          33  Probability of death no-shock with hiv          8   \n",
       "1     1951          33  Probability of death no-shock with hiv          8   \n",
       "2     1952          33  Probability of death no-shock with hiv          8   \n",
       "3     1953          33  Probability of death no-shock with hiv          8   \n",
       "4     1954          33  Probability of death no-shock with hiv          8   \n",
       "\n",
       "            metric_name       val     upper     lower  \n",
       "0  Probability of death  0.211479  0.233700  0.191125  \n",
       "1  Probability of death  0.208153  0.230490  0.189132  \n",
       "2  Probability of death  0.203444  0.224038  0.184705  \n",
       "3  Probability of death  0.199828  0.219155  0.181873  \n",
       "4  Probability of death  0.196090  0.214379  0.178952  "
      ]
     },
     "execution_count": 3,
     "metadata": {},
     "output_type": "execute_result"
    }
   ],
   "source": [
    "df.head()"
   ]
  },
  {
   "cell_type": "code",
   "execution_count": 4,
   "id": "da0dac8a",
   "metadata": {},
   "outputs": [
    {
     "data": {
      "text/html": [
       "<div>\n",
       "<style scoped>\n",
       "    .dataframe tbody tr th:only-of-type {\n",
       "        vertical-align: middle;\n",
       "    }\n",
       "\n",
       "    .dataframe tbody tr th {\n",
       "        vertical-align: top;\n",
       "    }\n",
       "\n",
       "    .dataframe thead th {\n",
       "        text-align: right;\n",
       "    }\n",
       "</style>\n",
       "<table border=\"1\" class=\"dataframe\">\n",
       "  <thead>\n",
       "    <tr style=\"text-align: right;\">\n",
       "      <th></th>\n",
       "      <th>Country Name</th>\n",
       "      <th>Country Code</th>\n",
       "      <th>Indicator Name</th>\n",
       "      <th>Indicator Code</th>\n",
       "      <th>1960</th>\n",
       "      <th>1961</th>\n",
       "      <th>1962</th>\n",
       "      <th>1963</th>\n",
       "      <th>1964</th>\n",
       "      <th>1965</th>\n",
       "      <th>...</th>\n",
       "      <th>2011</th>\n",
       "      <th>2012</th>\n",
       "      <th>2013</th>\n",
       "      <th>2014</th>\n",
       "      <th>2015</th>\n",
       "      <th>2016</th>\n",
       "      <th>2017</th>\n",
       "      <th>2018</th>\n",
       "      <th>2019</th>\n",
       "      <th>2020</th>\n",
       "    </tr>\n",
       "  </thead>\n",
       "  <tbody>\n",
       "    <tr>\n",
       "      <th>0</th>\n",
       "      <td>Aruba</td>\n",
       "      <td>ABW</td>\n",
       "      <td>Population, total</td>\n",
       "      <td>SP.POP.TOTL</td>\n",
       "      <td>54208</td>\n",
       "      <td>55434</td>\n",
       "      <td>56234</td>\n",
       "      <td>56699</td>\n",
       "      <td>57029</td>\n",
       "      <td>57357</td>\n",
       "      <td>...</td>\n",
       "      <td>102050</td>\n",
       "      <td>102565.0</td>\n",
       "      <td>103165.0</td>\n",
       "      <td>103776.0</td>\n",
       "      <td>104339.0</td>\n",
       "      <td>104865.0</td>\n",
       "      <td>105361.0</td>\n",
       "      <td>105846.0</td>\n",
       "      <td>106310.0</td>\n",
       "      <td>106766.0</td>\n",
       "    </tr>\n",
       "    <tr>\n",
       "      <th>1</th>\n",
       "      <td>Africa Eastern and Southern</td>\n",
       "      <td>AFE</td>\n",
       "      <td>Population, total</td>\n",
       "      <td>SP.POP.TOTL</td>\n",
       "      <td>130836765</td>\n",
       "      <td>134159786</td>\n",
       "      <td>137614644</td>\n",
       "      <td>141202036</td>\n",
       "      <td>144920186</td>\n",
       "      <td>148769974</td>\n",
       "      <td>...</td>\n",
       "      <td>532760424</td>\n",
       "      <td>547482863.0</td>\n",
       "      <td>562601578.0</td>\n",
       "      <td>578075373.0</td>\n",
       "      <td>593871847.0</td>\n",
       "      <td>609978946.0</td>\n",
       "      <td>626392880.0</td>\n",
       "      <td>643090131.0</td>\n",
       "      <td>660046272.0</td>\n",
       "      <td>677243299.0</td>\n",
       "    </tr>\n",
       "    <tr>\n",
       "      <th>2</th>\n",
       "      <td>Afghanistan</td>\n",
       "      <td>AFG</td>\n",
       "      <td>Population, total</td>\n",
       "      <td>SP.POP.TOTL</td>\n",
       "      <td>8996967</td>\n",
       "      <td>9169406</td>\n",
       "      <td>9351442</td>\n",
       "      <td>9543200</td>\n",
       "      <td>9744772</td>\n",
       "      <td>9956318</td>\n",
       "      <td>...</td>\n",
       "      <td>30117411</td>\n",
       "      <td>31161378.0</td>\n",
       "      <td>32269592.0</td>\n",
       "      <td>33370804.0</td>\n",
       "      <td>34413603.0</td>\n",
       "      <td>35383028.0</td>\n",
       "      <td>36296111.0</td>\n",
       "      <td>37171922.0</td>\n",
       "      <td>38041757.0</td>\n",
       "      <td>38928341.0</td>\n",
       "    </tr>\n",
       "    <tr>\n",
       "      <th>3</th>\n",
       "      <td>Africa Western and Central</td>\n",
       "      <td>AFW</td>\n",
       "      <td>Population, total</td>\n",
       "      <td>SP.POP.TOTL</td>\n",
       "      <td>96396419</td>\n",
       "      <td>98407221</td>\n",
       "      <td>100506960</td>\n",
       "      <td>102691339</td>\n",
       "      <td>104953470</td>\n",
       "      <td>107289875</td>\n",
       "      <td>...</td>\n",
       "      <td>360285439</td>\n",
       "      <td>370243017.0</td>\n",
       "      <td>380437896.0</td>\n",
       "      <td>390882979.0</td>\n",
       "      <td>401586651.0</td>\n",
       "      <td>412551299.0</td>\n",
       "      <td>423769930.0</td>\n",
       "      <td>435229381.0</td>\n",
       "      <td>446911598.0</td>\n",
       "      <td>458803476.0</td>\n",
       "    </tr>\n",
       "    <tr>\n",
       "      <th>4</th>\n",
       "      <td>Angola</td>\n",
       "      <td>AGO</td>\n",
       "      <td>Population, total</td>\n",
       "      <td>SP.POP.TOTL</td>\n",
       "      <td>5454938</td>\n",
       "      <td>5531451</td>\n",
       "      <td>5608499</td>\n",
       "      <td>5679409</td>\n",
       "      <td>5734995</td>\n",
       "      <td>5770573</td>\n",
       "      <td>...</td>\n",
       "      <td>24220660</td>\n",
       "      <td>25107925.0</td>\n",
       "      <td>26015786.0</td>\n",
       "      <td>26941773.0</td>\n",
       "      <td>27884380.0</td>\n",
       "      <td>28842482.0</td>\n",
       "      <td>29816769.0</td>\n",
       "      <td>30809787.0</td>\n",
       "      <td>31825299.0</td>\n",
       "      <td>32866268.0</td>\n",
       "    </tr>\n",
       "  </tbody>\n",
       "</table>\n",
       "<p>5 rows × 65 columns</p>\n",
       "</div>"
      ],
      "text/plain": [
       "                  Country Name Country Code     Indicator Name Indicator Code  \\\n",
       "0                        Aruba          ABW  Population, total    SP.POP.TOTL   \n",
       "1  Africa Eastern and Southern          AFE  Population, total    SP.POP.TOTL   \n",
       "2                  Afghanistan          AFG  Population, total    SP.POP.TOTL   \n",
       "3   Africa Western and Central          AFW  Population, total    SP.POP.TOTL   \n",
       "4                       Angola          AGO  Population, total    SP.POP.TOTL   \n",
       "\n",
       "        1960       1961       1962       1963       1964       1965  ...  \\\n",
       "0      54208      55434      56234      56699      57029      57357  ...   \n",
       "1  130836765  134159786  137614644  141202036  144920186  148769974  ...   \n",
       "2    8996967    9169406    9351442    9543200    9744772    9956318  ...   \n",
       "3   96396419   98407221  100506960  102691339  104953470  107289875  ...   \n",
       "4    5454938    5531451    5608499    5679409    5734995    5770573  ...   \n",
       "\n",
       "        2011         2012         2013         2014         2015         2016  \\\n",
       "0     102050     102565.0     103165.0     103776.0     104339.0     104865.0   \n",
       "1  532760424  547482863.0  562601578.0  578075373.0  593871847.0  609978946.0   \n",
       "2   30117411   31161378.0   32269592.0   33370804.0   34413603.0   35383028.0   \n",
       "3  360285439  370243017.0  380437896.0  390882979.0  401586651.0  412551299.0   \n",
       "4   24220660   25107925.0   26015786.0   26941773.0   27884380.0   28842482.0   \n",
       "\n",
       "          2017         2018         2019         2020  \n",
       "0     105361.0     105846.0     106310.0     106766.0  \n",
       "1  626392880.0  643090131.0  660046272.0  677243299.0  \n",
       "2   36296111.0   37171922.0   38041757.0   38928341.0  \n",
       "3  423769930.0  435229381.0  446911598.0  458803476.0  \n",
       "4   29816769.0   30809787.0   31825299.0   32866268.0  \n",
       "\n",
       "[5 rows x 65 columns]"
      ]
     },
     "execution_count": 4,
     "metadata": {},
     "output_type": "execute_result"
    }
   ],
   "source": [
    "df_pop.head()"
   ]
  },
  {
   "cell_type": "code",
   "execution_count": 5,
   "id": "99daee98",
   "metadata": {},
   "outputs": [
    {
     "data": {
      "text/html": [
       "<div>\n",
       "<style scoped>\n",
       "    .dataframe tbody tr th:only-of-type {\n",
       "        vertical-align: middle;\n",
       "    }\n",
       "\n",
       "    .dataframe tbody tr th {\n",
       "        vertical-align: top;\n",
       "    }\n",
       "\n",
       "    .dataframe thead th {\n",
       "        text-align: right;\n",
       "    }\n",
       "</style>\n",
       "<table border=\"1\" class=\"dataframe\">\n",
       "  <thead>\n",
       "    <tr style=\"text-align: right;\">\n",
       "      <th></th>\n",
       "      <th>Country</th>\n",
       "      <th>Year</th>\n",
       "      <th>Data Source</th>\n",
       "      <th>Number of registered vehicles</th>\n",
       "    </tr>\n",
       "  </thead>\n",
       "  <tbody>\n",
       "    <tr>\n",
       "      <th>0</th>\n",
       "      <td>Afghanistan</td>\n",
       "      <td>2013</td>\n",
       "      <td>RS_001</td>\n",
       "      <td>655357</td>\n",
       "    </tr>\n",
       "    <tr>\n",
       "      <th>1</th>\n",
       "      <td>Albania</td>\n",
       "      <td>2016</td>\n",
       "      <td>RS_002</td>\n",
       "      <td>563106</td>\n",
       "    </tr>\n",
       "    <tr>\n",
       "      <th>2</th>\n",
       "      <td>Antigua and Barbuda</td>\n",
       "      <td>2016</td>\n",
       "      <td>RS_003</td>\n",
       "      <td>36030</td>\n",
       "    </tr>\n",
       "    <tr>\n",
       "      <th>3</th>\n",
       "      <td>Argentina</td>\n",
       "      <td>2016</td>\n",
       "      <td>RS_004</td>\n",
       "      <td>21633587</td>\n",
       "    </tr>\n",
       "    <tr>\n",
       "      <th>4</th>\n",
       "      <td>Australia</td>\n",
       "      <td>2016</td>\n",
       "      <td>RS_005</td>\n",
       "      <td>18326236</td>\n",
       "    </tr>\n",
       "  </tbody>\n",
       "</table>\n",
       "</div>"
      ],
      "text/plain": [
       "               Country  Year Data Source  Number of registered vehicles\n",
       "0          Afghanistan  2013      RS_001                         655357\n",
       "1              Albania  2016      RS_002                         563106\n",
       "2  Antigua and Barbuda  2016      RS_003                          36030\n",
       "3            Argentina  2016      RS_004                       21633587\n",
       "4            Australia  2016      RS_005                       18326236"
      ]
     },
     "execution_count": 5,
     "metadata": {},
     "output_type": "execute_result"
    }
   ],
   "source": [
    "df_veh.head()"
   ]
  },
  {
   "cell_type": "code",
   "execution_count": 6,
   "id": "26ad90ad",
   "metadata": {},
   "outputs": [
    {
     "name": "stdout",
     "output_type": "stream",
     "text": [
      "['Aruba', 'Africa Eastern and Southern', 'Africa Western and Central', 'Arab World', 'Central Europe and the Baltics', 'Channel Islands', 'Caribbean small states', 'Curacao', 'Cayman Islands', 'East Asia & Pacific (excluding high income)', 'Early-demographic dividend', 'East Asia & Pacific', 'Europe & Central Asia (excluding high income)', 'Europe & Central Asia', 'Euro area', 'Fragile and conflict affected situations', 'Faroe Islands', 'Gibraltar', 'High income', 'Hong Kong SAR, China', 'Heavily indebted poor countries (HIPC)', 'IBRD only', 'IDA & IBRD total', 'IDA total', 'IDA blend', 'IDA only', 'Isle of Man', 'Kyrgyz Republic', 'Latin America & Caribbean (excluding high income)', 'Latin America & Caribbean', 'Least developed countries: UN classification', 'Low income', 'Liechtenstein', 'Lower middle income', 'Low & middle income', 'Late-demographic dividend', 'Macao SAR, China', 'St. Martin (French part)', 'Middle East & North Africa', 'Middle income', 'Middle East & North Africa (excluding high income)', 'New Caledonia', 'OECD members', 'Other small states', 'Pre-demographic dividend', 'Pacific island small states', 'Post-demographic dividend', 'French Polynesia', 'Sub-Saharan Africa (excluding high income)', 'Small states', 'Sint Maarten (Dutch part)', 'Turks and Caicos Islands', 'East Asia & Pacific (IDA & IBRD countries)', 'Europe & Central Asia (IDA & IBRD countries)', 'Latin America & the Caribbean (IDA & IBRD countries)', 'Middle East & North Africa (IDA & IBRD countries)', 'South Asia (IDA & IBRD)', 'Sub-Saharan Africa (IDA & IBRD countries)', 'Upper middle income', 'British Virgin Islands', 'World', 'Kosovo']\n",
      "264\n",
      "62\n"
     ]
    }
   ],
   "source": [
    "# find all countries in df_pop that aren't in deaths dfs\n",
    "not_in = []\n",
    "for country in df_pop[\"Country Name\"]:\n",
    "    if country not in df[\"location_name\"].unique():\n",
    "        not_in.append(country)\n",
    "        \n",
    "print(not_in)\n",
    "print(len(df_pop))\n",
    "print(len(not_in))"
   ]
  },
  {
   "cell_type": "code",
   "execution_count": 7,
   "id": "066e383a",
   "metadata": {},
   "outputs": [
    {
     "name": "stdout",
     "output_type": "stream",
     "text": [
      "['Aruba', 'Africa Eastern and Southern', 'Africa Western and Central', 'Angola', 'Andorra', 'Arab World', 'Armenia', 'American Samoa', 'Bahrain', 'Bahamas', 'Bermuda', 'Brunei Darussalam', 'Central Europe and the Baltics', 'Channel Islands', 'Democratic Republic of the Congo', 'Congo', 'Caribbean small states', 'Curacao', 'Cayman Islands', 'Djibouti', 'Algeria', 'East Asia & Pacific (excluding high income)', 'Early-demographic dividend', 'East Asia & Pacific', 'Europe & Central Asia (excluding high income)', 'Europe & Central Asia', 'Euro area', 'European Union', 'Fragile and conflict affected situations', 'Faroe Islands', 'Gabon', 'Gibraltar', 'Greenland', 'Guam', 'High income', 'Hong Kong SAR, China', 'Heavily indebted poor countries (HIPC)', 'Haiti', 'IBRD only', 'IDA & IBRD total', 'IDA total', 'IDA blend', 'IDA only', 'Isle of Man', 'Kyrgyz Republic', 'Saint Kitts and Nevis', 'Latin America & Caribbean (excluding high income)', 'Latin America & Caribbean', 'Least developed countries: UN classification', 'Low income', 'Liechtenstein', 'Lower middle income', 'Low & middle income', 'Lesotho', 'Late-demographic dividend', 'Macao SAR, China', 'St. Martin (French part)', 'Monaco', 'Middle East & North Africa', 'Marshall Islands', 'Middle income', 'Middle East & North Africa (excluding high income)', 'Northern Mariana Islands', 'Mauritania', 'Malawi', 'North America', 'New Caledonia', 'Nicaragua', 'Nauru', 'OECD members', 'Other small states', 'Palau', 'Pre-demographic dividend', 'Puerto Rico', \"Democratic People's Republic of Korea\", 'Pacific island small states', 'Post-demographic dividend', 'French Polynesia', 'South Asia', 'Solomon Islands', 'Sierra Leone', 'Sub-Saharan Africa (excluding high income)', 'Sub-Saharan Africa', 'Small states', 'Sint Maarten (Dutch part)', 'Turks and Caicos Islands', 'East Asia & Pacific (IDA & IBRD countries)', 'Europe & Central Asia (IDA & IBRD countries)', 'Turkmenistan', 'Latin America & the Caribbean (IDA & IBRD countries)', 'Middle East & North Africa (IDA & IBRD countries)', 'South Asia (IDA & IBRD)', 'Sub-Saharan Africa (IDA & IBRD countries)', 'Tuvalu', 'Upper middle income', 'Uzbekistan', 'Saint Vincent and the Grenadines', 'British Virgin Islands', 'United States Virgin Islands', 'Vanuatu', 'World', 'Kosovo', 'Yemen', 'South Africa', 'Zambia']\n",
      "264\n",
      "105\n"
     ]
    }
   ],
   "source": [
    "# find all countries in df_pop that aren't in df_veh\n",
    "not_in = []\n",
    "for country in df_pop[\"Country Name\"]:\n",
    "    if country not in df_veh[\"Country\"].unique():\n",
    "        not_in.append(country)\n",
    "        \n",
    "print(not_in)\n",
    "print(len(df_pop))\n",
    "print(len(not_in))"
   ]
  },
  {
   "cell_type": "code",
   "execution_count": 8,
   "id": "3941c475",
   "metadata": {},
   "outputs": [
    {
     "name": "stdout",
     "output_type": "stream",
     "text": [
      "['occupied Palestinian territory, including east Jerusalem']\n",
      "162\n",
      "1\n"
     ]
    }
   ],
   "source": [
    "# find all countries in df_veh that aren't in deaths dfs\n",
    "not_in = []\n",
    "for country in df_veh[\"Country\"]:\n",
    "    if country not in df[\"location_name\"].unique():\n",
    "        not_in.append(country)\n",
    "        \n",
    "print(not_in)\n",
    "print(len(df_veh))\n",
    "print(len(not_in))"
   ]
  },
  {
   "cell_type": "code",
   "execution_count": 9,
   "id": "291a08d8",
   "metadata": {},
   "outputs": [
    {
     "name": "stdout",
     "output_type": "stream",
     "text": [
      "159\n",
      "['China', 'Cambodia', 'Indonesia', \"Lao People's Democratic Republic\", 'Malaysia', 'Maldives', 'Myanmar', 'Philippines', 'Sri Lanka', 'Thailand', 'Timor-Leste', 'Viet Nam', 'Fiji', 'Kiribati', 'Micronesia (Federated States of)', 'Papua New Guinea', 'Samoa', 'Tonga', 'Azerbaijan', 'Georgia', 'Kazakhstan', 'Mongolia', 'Tajikistan', 'Albania', 'Bosnia and Herzegovina', 'Bulgaria', 'Croatia', 'Czechia', 'Hungary', 'North Macedonia', 'Montenegro', 'Poland', 'Romania', 'Serbia', 'Slovakia', 'Slovenia', 'Belarus', 'Estonia', 'Latvia', 'Lithuania', 'Republic of Moldova', 'Russian Federation', 'Ukraine', 'Japan', 'Republic of Korea', 'Singapore', 'Australia', 'New Zealand', 'Austria', 'Belgium', 'Cyprus', 'Denmark', 'Finland', 'France', 'Germany', 'Greece', 'Iceland', 'Ireland', 'Israel', 'Italy', 'Luxembourg', 'Malta', 'Netherlands', 'Norway', 'Portugal', 'Spain', 'Sweden', 'Switzerland', 'United Kingdom', 'Argentina', 'Chile', 'Uruguay', 'Canada', 'United States of America', 'Antigua and Barbuda', 'Barbados', 'Belize', 'Cuba', 'Dominica', 'Dominican Republic', 'Grenada', 'Guyana', 'Jamaica', 'Saint Lucia', 'Suriname', 'Trinidad and Tobago', 'Bolivia (Plurinational State of)', 'Ecuador', 'Peru', 'Colombia', 'Costa Rica', 'El Salvador', 'Guatemala', 'Honduras', 'Mexico', 'Panama', 'Venezuela (Bolivarian Republic of)', 'Brazil', 'Paraguay', 'Egypt', 'Iran (Islamic Republic of)', 'Iraq', 'Jordan', 'Kuwait', 'Lebanon', 'Libya', 'Morocco', 'Oman', 'Qatar', 'Saudi Arabia', 'Syrian Arab Republic', 'Tunisia', 'Turkey', 'United Arab Emirates', 'Afghanistan', 'Bangladesh', 'Bhutan', 'India', 'Nepal', 'Pakistan', 'Central African Republic', 'Equatorial Guinea', 'Burundi', 'Comoros', 'Eritrea', 'Ethiopia', 'Kenya', 'Madagascar', 'Mauritius', 'Mozambique', 'Rwanda', 'Seychelles', 'Somalia', 'United Republic of Tanzania', 'Uganda', 'Botswana', 'Namibia', 'Eswatini', 'Zimbabwe', 'Benin', 'Burkina Faso', 'Cameroon', 'Cabo Verde', 'Chad', \"Côte d'Ivoire\", 'Gambia', 'Ghana', 'Guinea', 'Guinea-Bissau', 'Liberia', 'Mali', 'Niger', 'Nigeria', 'Sao Tome and Principe', 'Senegal', 'Togo', 'San Marino', 'South Sudan', 'Sudan']\n"
     ]
    }
   ],
   "source": [
    "# get all countries that are in all of the datasets\n",
    "countries = []\n",
    "for country in df[\"location_name\"].unique():\n",
    "    if (country in df_pop[\"Country Name\"].unique() and \n",
    "            country in df_veh[\"Country\"].unique()):\n",
    "        countries.append(country)\n",
    "\n",
    "print(len(countries))\n",
    "print(countries)"
   ]
  },
  {
   "cell_type": "code",
   "execution_count": 10,
   "id": "77351082",
   "metadata": {},
   "outputs": [
    {
     "name": "stdout",
     "output_type": "stream",
     "text": [
      "1950\n",
      "0.3758452625927\n",
      "\n",
      "1951\n",
      "0.373805379702116\n",
      "\n",
      "1952\n",
      "0.372102298390003\n",
      "\n",
      "1953\n",
      "0.369422639238542\n",
      "\n",
      "1954\n",
      "0.36835172521994\n",
      "\n",
      "1955\n",
      "0.366788950701704\n",
      "\n",
      "1956\n",
      "0.364276671331106\n",
      "\n",
      "1957\n",
      "0.361851751064533\n",
      "\n",
      "1958\n",
      "0.360096550421455\n",
      "\n",
      "1959\n",
      "0.357684776083154\n",
      "\n",
      "1960\n",
      "0.354968587332285\n",
      "\n",
      "1961\n",
      "0.352120267466452\n",
      "\n",
      "1962\n",
      "0.350059688089782\n",
      "\n",
      "1963\n",
      "0.348824061681618\n",
      "\n",
      "1964\n",
      "0.346566764808922\n",
      "\n",
      "1965\n",
      "0.344326544857409\n",
      "\n",
      "1966\n",
      "0.34235032057586\n",
      "\n",
      "1967\n",
      "0.339939542674616\n",
      "\n",
      "1968\n",
      "0.338169206583105\n",
      "\n",
      "1969\n",
      "0.334874114906618\n",
      "\n",
      "1970\n",
      "0.330491518678921\n",
      "\n",
      "1971\n",
      "0.326327902364333\n",
      "\n",
      "1972\n",
      "0.321702112392104\n",
      "\n",
      "1973\n",
      "0.317215980393211\n",
      "\n",
      "1974\n",
      "0.31257372269665\n",
      "\n",
      "1975\n",
      "0.308734151200565\n",
      "\n",
      "1976\n",
      "0.305937530670459\n",
      "\n",
      "1977\n",
      "0.304256912122611\n",
      "\n",
      "1978\n",
      "0.30190697029377\n",
      "\n",
      "1979\n",
      "0.299236113111145\n",
      "\n",
      "1980\n",
      "0.294227983446208\n",
      "\n",
      "1981\n",
      "0.283834500604925\n",
      "\n",
      "1982\n",
      "0.276207163982823\n",
      "\n",
      "1983\n",
      "0.268921351974853\n",
      "\n",
      "1984\n",
      "0.26217556982265\n",
      "\n",
      "1985\n",
      "0.255470412291793\n",
      "\n",
      "1986\n",
      "0.249543098979514\n",
      "\n",
      "1987\n",
      "0.247888765731279\n",
      "\n",
      "1988\n",
      "0.25349285962496\n",
      "\n",
      "1989\n",
      "0.265178223002129\n",
      "\n",
      "1990\n",
      "0.286352671715874\n",
      "\n",
      "1991\n",
      "0.311260960784949\n",
      "\n",
      "1992\n",
      "0.349696847540969\n",
      "\n",
      "1993\n",
      "0.394212036670814\n",
      "\n",
      "1994\n",
      "0.441612440014406\n",
      "\n",
      "1995\n",
      "0.491456635559668\n",
      "\n",
      "1996\n",
      "0.5322810276585\n",
      "\n",
      "1997\n",
      "0.57063086172084\n",
      "\n",
      "1998\n",
      "0.60780257248079\n",
      "\n",
      "1999\n",
      "0.637216764175989\n",
      "\n",
      "2000\n",
      "0.66187166825026\n",
      "\n",
      "2001\n",
      "0.674676026914242\n",
      "\n",
      "2002\n",
      "0.685529194502936\n",
      "\n",
      "2003\n",
      "0.691288558918784\n",
      "\n",
      "2004\n",
      "0.691572416024998\n",
      "\n",
      "2005\n",
      "0.681176760783371\n",
      "\n",
      "2006\n",
      "0.666146238574695\n",
      "\n",
      "2007\n",
      "0.646123331266886\n",
      "\n",
      "2008\n",
      "0.623471885014419\n",
      "\n",
      "2009\n",
      "0.591434302538843\n",
      "\n",
      "2010\n",
      "0.544761378843904\n",
      "\n",
      "2011\n",
      "0.494828898867328\n",
      "\n",
      "2012\n",
      "0.459049376819961\n",
      "\n",
      "2013\n",
      "0.432387556576587\n",
      "\n",
      "2014\n",
      "0.416681901533221\n",
      "\n",
      "2015\n",
      "0.405680386595492\n",
      "\n",
      "2016\n",
      "0.392582256082096\n",
      "\n",
      "2017\n",
      "0.377460211693952\n",
      "\n",
      "2018\n",
      "0.361945925466402\n",
      "\n",
      "2019\n",
      "0.352673763740768\n",
      "\n"
     ]
    }
   ],
   "source": [
    "year = 1950\n",
    "sex = \"both\"\n",
    "location = \"Zimbabwe\"\n",
    "age_group = 199\n",
    "\n",
    "for year in range(1950, 2020):\n",
    "    print(year)\n",
    "    print(float(df[(df[\"age_group_id\"] == age_group) &(df[\"location_name\"] == location) & \n",
    "                   (df[\"sex_name\"] == sex) & (df[\"year_id\"] == year)][\"val\"]))\n",
    "    print()"
   ]
  },
  {
   "cell_type": "code",
   "execution_count": 11,
   "id": "ad5d4ff6",
   "metadata": {},
   "outputs": [
    {
     "data": {
      "text/plain": [
       "(array([ 0.,  0., 16., 20., 12., 18., 15., 21., 15.,  4.,  9.,  6.,  9.,\n",
       "         3.,  2.,  1.,  2.,  2.,  0.,  2.,  0.,  1.,  1.,  0.,  0.]),\n",
       " array([0.  , 0.02, 0.04, 0.06, 0.08, 0.1 , 0.12, 0.14, 0.16, 0.18, 0.2 ,\n",
       "        0.22, 0.24, 0.26, 0.28, 0.3 , 0.32, 0.34, 0.36, 0.38, 0.4 , 0.42,\n",
       "        0.44, 0.46, 0.48, 0.5 ]),\n",
       " <BarContainer object of 25 artists>)"
      ]
     },
     "execution_count": 11,
     "metadata": {},
     "output_type": "execute_result"
    },
    {
     "data": {
      "image/png": "[encoded data removed]",
      "text/plain": [
       "<Figure size 432x288 with 1 Axes>"
      ]
     },
     "metadata": {
      "needs_background": "light"
     },
     "output_type": "display_data"
    }
   ],
   "source": [
    "# histogram of death rates in 2019\n",
    "death_rates_young = np.array(df[(df[\"location_name\"].isin(countries)) & (df[\"age_group_id\"] == 1) &\n",
    "               (df[\"sex_name\"] == \"both\") & (df[\"year_id\"] == 2019)][\"val\"])\n",
    "\n",
    "death_rates_old = np.array(df[(df[\"location_name\"].isin(countries)) & (df[\"age_group_id\"] == 199) &\n",
    "               (df[\"sex_name\"] == \"both\") & (df[\"year_id\"] == 2019)][\"val\"])\n",
    "\n",
    "plt.hist(death_rates_young, alpha=0.5, range=(0,0.5), bins=25)\n",
    "plt.hist(death_rates_old, alpha=0.5, range=(0,0.5), bins=25)"
   ]
  },
  {
   "cell_type": "code",
   "execution_count": 12,
   "id": "b9786e3b",
   "metadata": {},
   "outputs": [],
   "source": [
    "veh_reg_rates = np.zeros(len(countries))\n",
    "death_rates_young = np.zeros(len(countries))\n",
    "death_rates_old = np.zeros(len(countries))\n",
    "\n",
    "for i, country in enumerate(countries):\n",
    "    \n",
    "    veh_reg_rates[i] = (float(df_veh[df_veh[\"Country\"] == country][\"Number of registered vehicles\"]) / \n",
    "                     float(df_pop[df_pop[\"Country Name\"] == country][\"2016\"]))\n",
    "    \n",
    "    death_rates_young[i] = float(df[(df[\"location_name\"] == country) & (df[\"age_group_id\"] == 1) &\n",
    "               (df[\"sex_name\"] == \"both\") & (df[\"year_id\"] == 2016)][\"val\"])\n",
    "    \n",
    "    death_rates_old[i] = float(df[(df[\"location_name\"] == country) & (df[\"age_group_id\"] == 199) &\n",
    "               (df[\"sex_name\"] == \"both\") & (df[\"year_id\"] == 2016)][\"val\"])"
   ]
  },
  {
   "cell_type": "code",
   "execution_count": 13,
   "id": "3d4a939c",
   "metadata": {},
   "outputs": [
    {
     "data": {
      "image/png": "[encoded data removed]",
      "text/plain": [
       "<Figure size 432x288 with 1 Axes>"
      ]
     },
     "metadata": {
      "needs_background": "light"
     },
     "output_type": "display_data"
    }
   ],
   "source": [
    "plt.scatter(death_rates_young, veh_reg_rates, alpha=0.5)\n",
    "plt.scatter(death_rates_old, veh_reg_rates, alpha=0.5)\n",
    "plt.show()"
   ]
  },
  {
   "cell_type": "code",
   "execution_count": 14,
   "id": "21f1169e",
   "metadata": {},
   "outputs": [
    {
     "name": "stdout",
     "output_type": "stream",
     "text": [
      "(array([156]),)\n",
      "(array([ 13,  14, 120, 124, 129, 132, 135, 136, 137, 138, 141, 148]),)\n"
     ]
    }
   ],
   "source": [
    "print(np.where(veh_reg_rates > 1.5))\n",
    "print(np.where(death_rates_old > 0.3))"
   ]
  },
  {
   "cell_type": "code",
   "execution_count": 15,
   "id": "7193bfe5",
   "metadata": {},
   "outputs": [
    {
     "name": "stdout",
     "output_type": "stream",
     "text": [
      "Senegal\n",
      "United Republic of Tanzania\n",
      "0.229573886007868\n",
      "0.04078519064677865\n"
     ]
    }
   ],
   "source": [
    "print(countries[154])\n",
    "\n",
    "num = 133\n",
    "print(countries[num])\n",
    "print(death_rates_old[num])\n",
    "print(veh_reg_rates[num])"
   ]
  },
  {
   "cell_type": "code",
   "execution_count": 16,
   "id": "d06f1e42",
   "metadata": {},
   "outputs": [
    {
     "name": "stdout",
     "output_type": "stream",
     "text": [
      "[0.10955012]\n",
      "[0.87074293]\n",
      "\n",
      "[0.05817682]\n",
      "[0.63167684]\n"
     ]
    }
   ],
   "source": [
    "usa = np.where(np.array(countries) == \"United States of America\")[0]\n",
    "neth = np.where(np.array(countries) == \"Netherlands\")[0]\n",
    "\n",
    "print(death_rates_old[usa])\n",
    "print(veh_reg_rates[usa])\n",
    "print()\n",
    "print(death_rates_old[neth])\n",
    "print(veh_reg_rates[neth])"
   ]
  },
  {
   "cell_type": "code",
   "execution_count": 28,
   "id": "6fb5b225",
   "metadata": {},
   "outputs": [
    {
     "name": "stdout",
     "output_type": "stream",
     "text": [
      "[63 51 52 47 66 67 72 46 56 62 54 57 43 60 48 49 44 53 65 68 64 35 59 37\n",
      " 27 50 55 73 45 61]\n"
     ]
    }
   ],
   "source": [
    "# https://en.wikipedia.org/wiki/Social_Progress_Index\n",
    "# Social progress index\n",
    "\n",
    "high_spis = np.zeros(30, dtype=int)\n",
    "high_spis[0] = np.where(np.array(countries) == \"Norway\")[0]\n",
    "high_spis[1] = np.where(np.array(countries) == \"Denmark\")[0]\n",
    "high_spis[2] = np.where(np.array(countries) == \"Finland\")[0]\n",
    "high_spis[3] = np.where(np.array(countries) == \"New Zealand\")[0]\n",
    "high_spis[4] = np.where(np.array(countries) == \"Sweden\")[0]\n",
    "high_spis[5] = np.where(np.array(countries) == \"Switzerland\")[0]\n",
    "high_spis[6] = np.where(np.array(countries) == \"Canada\")[0]\n",
    "high_spis[7] = np.where(np.array(countries) == \"Australia\")[0]\n",
    "high_spis[8] = np.where(np.array(countries) == \"Iceland\")[0]\n",
    "high_spis[9] = np.where(np.array(countries) == \"Netherlands\")[0]\n",
    "high_spis[10] = np.where(np.array(countries) == \"Germany\")[0]\n",
    "high_spis[11] = np.where(np.array(countries) == \"Ireland\")[0]\n",
    "high_spis[12] = np.where(np.array(countries) == \"Japan\")[0]\n",
    "high_spis[13] = np.where(np.array(countries) == \"Luxembourg\")[0]\n",
    "high_spis[14] = np.where(np.array(countries) == \"Austria\")[0]\n",
    "high_spis[15] = np.where(np.array(countries) == \"Belgium\")[0]\n",
    "high_spis[16] = np.where(np.array(countries) == \"Republic of Korea\")[0]\n",
    "high_spis[17] = np.where(np.array(countries) == \"France\")[0]\n",
    "high_spis[18] = np.where(np.array(countries) == \"Spain\")[0]\n",
    "high_spis[19] = np.where(np.array(countries) == \"United Kingdom\")[0]\n",
    "high_spis[20] = np.where(np.array(countries) == \"Portugal\")[0]\n",
    "high_spis[21] = np.where(np.array(countries) == \"Slovenia\")[0]\n",
    "high_spis[22] = np.where(np.array(countries) == \"Italy\")[0]\n",
    "high_spis[23] = np.where(np.array(countries) == \"Estonia\")[0]\n",
    "high_spis[24] = np.where(np.array(countries) == \"Czechia\")[0]\n",
    "high_spis[25] = np.where(np.array(countries) == \"Cyprus\")[0]\n",
    "high_spis[26] = np.where(np.array(countries) == \"Greece\")[0]\n",
    "high_spis[27] = np.where(np.array(countries) == \"United States of America\")[0]\n",
    "high_spis[28] = np.where(np.array(countries) == \"Singapore\")[0]\n",
    "high_spis[29] = np.where(np.array(countries) == \"Malta\")[0]\n",
    "\n",
    "print(high_spis)"
   ]
  },
  {
   "cell_type": "code",
   "execution_count": 41,
   "id": "8f98077c",
   "metadata": {},
   "outputs": [
    {
     "data": {
      "image/png": "[encoded data removed]",
      "text/plain": [
       "<Figure size 432x288 with 1 Axes>"
      ]
     },
     "metadata": {
      "needs_background": "light"
     },
     "output_type": "display_data"
    },
    {
     "data": {
      "image/png": "[encoded data removed]",
      "text/plain": [
       "<Figure size 432x288 with 1 Axes>"
      ]
     },
     "metadata": {
      "needs_background": "light"
     },
     "output_type": "display_data"
    },
    {
     "name": "stdout",
     "output_type": "stream",
     "text": [
      "35.219287260067745\n"
     ]
    }
   ],
   "source": [
    "plt.scatter(death_rates_young[high_spis], veh_reg_rates[high_spis], alpha=0.5)\n",
    "m, b = np.polyfit(death_rates_young[high_spis], veh_reg_rates[high_spis], 1)\n",
    "plt.plot(death_rates_young[high_spis], m*death_rates_young[high_spis] + b)\n",
    "plt.show()\n",
    "\n",
    "plt.scatter(death_rates_old[high_spis], veh_reg_rates[high_spis], alpha=0.5)\n",
    "m2, b2 = np.polyfit(death_rates_old[high_spis], veh_reg_rates[high_spis], 1)\n",
    "plt.plot(death_rates_old[high_spis], m2*death_rates_old[high_spis] + b2)\n",
    "plt.show()\n",
    "\n",
    "\n",
    "plt.show()\n",
    "print(m)"
   ]
  },
  {
   "cell_type": "code",
   "execution_count": 30,
   "id": "22067c1a",
   "metadata": {},
   "outputs": [
    {
     "data": {
      "image/png": "[encoded data removed]",
      "text/plain": [
       "<Figure size 432x288 with 1 Axes>"
      ]
     },
     "metadata": {
      "needs_background": "light"
     },
     "output_type": "display_data"
    }
   ],
   "source": [
    "plt.bar(np.arange(len(death_rates_old[high_spis]))+0.2, death_rates_old[high_spis], width=0.4)\n",
    "plt.bar(np.arange(len(death_rates_old[high_spis]))-0.2, veh_reg_rates[high_spis], width=0.4)\n",
    "plt.show()"
   ]
  },
  {
   "cell_type": "code",
   "execution_count": 23,
   "id": "f3b07c42",
   "metadata": {},
   "outputs": [
    {
     "name": "stdout",
     "output_type": "stream",
     "text": [
      "672\n",
      "['Global', 'Southeast Asia, East Asia, and Oceania', 'East Asia', 'China', \"Democratic People's Republic of Korea\", 'Taiwan (Province of China)', 'Southeast Asia', 'Cambodia', 'Indonesia', \"Lao People's Democratic Republic\", 'Malaysia', 'Maldives', 'Myanmar', 'Philippines', 'Sri Lanka', 'Thailand', 'Timor-Leste', 'Viet Nam', 'Oceania', 'Fiji', 'Kiribati', 'Marshall Islands', 'Micronesia (Federated States of)', 'Papua New Guinea', 'Samoa', 'Solomon Islands', 'Tonga', 'Vanuatu', 'Central Europe, Eastern Europe, and Central Asia', 'Central Asia', 'Armenia', 'Azerbaijan', 'Georgia', 'Kazakhstan', 'Kyrgyzstan', 'Mongolia', 'Tajikistan', 'Turkmenistan', 'Uzbekistan', 'Central Europe', 'Albania', 'Bosnia and Herzegovina', 'Bulgaria', 'Croatia', 'Czechia', 'Hungary', 'North Macedonia', 'Montenegro', 'Poland', 'Romania', 'Serbia', 'Slovakia', 'Slovenia', 'Eastern Europe', 'Belarus', 'Estonia', 'Latvia', 'Lithuania', 'Republic of Moldova', 'Russian Federation', 'Ukraine', 'High-income', 'High-income Asia Pacific', 'Brunei Darussalam', 'Japan', 'Republic of Korea', 'Singapore', 'Australasia', 'Australia', 'New Zealand', 'Western Europe', 'Andorra', 'Austria', 'Belgium', 'Cyprus', 'Denmark', 'Finland', 'France', 'Germany', 'Greece', 'Iceland', 'Ireland', 'Israel', 'Italy', 'Luxembourg', 'Malta', 'Netherlands', 'Norway', 'Portugal', 'Spain', 'Sweden', 'Switzerland', 'United Kingdom', 'Southern Latin America', 'Argentina', 'Chile', 'Uruguay', 'High-income North America', 'Canada', 'United States of America', 'Latin America and Caribbean', 'Caribbean', 'Antigua and Barbuda', 'Bahamas', 'Barbados', 'Belize', 'Cuba', 'Dominica', 'Dominican Republic', 'Grenada', 'Guyana', 'Haiti', 'Jamaica', 'Saint Lucia', 'Saint Vincent and the Grenadines', 'Suriname', 'Trinidad and Tobago', 'Andean Latin America', 'Bolivia (Plurinational State of)', 'Ecuador', 'Peru', 'Central Latin America', 'Colombia', 'Costa Rica', 'El Salvador', 'Guatemala', 'Honduras', 'Mexico', 'Nicaragua', 'Panama', 'Venezuela (Bolivarian Republic of)', 'Tropical Latin America', 'Brazil', 'Paraguay', 'North Africa and Middle East', 'Algeria', 'Bahrain', 'Egypt', 'Iran (Islamic Republic of)', 'Iraq', 'Jordan', 'Kuwait', 'Lebanon', 'Libya', 'Morocco', 'Palestine', 'Oman', 'Qatar', 'Saudi Arabia', 'Syrian Arab Republic', 'Tunisia', 'Turkey', 'United Arab Emirates', 'Yemen', 'Afghanistan', 'Bangladesh', 'Bhutan', 'India', 'Nepal', 'Pakistan', 'Sub-Saharan Africa', 'Central Sub-Saharan Africa', 'Angola', 'Central African Republic', 'Congo', 'Democratic Republic of the Congo', 'Equatorial Guinea', 'Gabon', 'Eastern Sub-Saharan Africa', 'Burundi', 'Comoros', 'Djibouti', 'Eritrea', 'Ethiopia', 'Kenya', 'Madagascar', 'Malawi', 'Mauritius', 'Mozambique', 'Rwanda', 'Seychelles', 'Somalia', 'United Republic of Tanzania', 'Uganda', 'Zambia', 'Southern Sub-Saharan Africa', 'Botswana', 'Lesotho', 'Namibia', 'South Africa', 'Eswatini', 'Zimbabwe', 'Western Sub-Saharan Africa', 'Benin', 'Burkina Faso', 'Cameroon', 'Cabo Verde', 'Chad', \"Côte d'Ivoire\", 'Gambia', 'Ghana', 'Guinea', 'Guinea-Bissau', 'Liberia', 'Mali', 'Mauritania', 'Niger', 'Nigeria', 'Sao Tome and Principe', 'Senegal', 'Sierra Leone', 'Togo', 'East Asia & Pacific - WB', 'Europe & Central Asia - WB', 'Latin America & Caribbean - WB', 'Sub-Saharan Africa - WB', 'Middle East & North Africa - WB', 'South Asia - WB', 'American Samoa', 'Bermuda', 'Cook Islands', 'Greenland', 'Guam', 'Monaco', 'Nauru', 'Niue', 'Northern Mariana Islands', 'Palau', 'Puerto Rico', 'Saint Kitts and Nevis', 'San Marino', 'Tokelau', 'Tuvalu', 'United States Virgin Islands', 'Northern Ireland', 'Scotland', 'South Sudan', 'World Bank Regions', 'WHO region', 'Sudan', 'Alabama', 'Alaska', 'Arizona', 'Arkansas', 'California', 'Colorado', 'Connecticut', 'Delaware', 'District of Columbia', 'Florida', 'Georgia2', 'Hawaii', 'Idaho', 'Illinois', 'Indiana', 'Iowa', 'Kansas', 'Kentucky', 'Louisiana', 'Maine', 'Maryland', 'Massachusetts', 'Michigan', 'Minnesota', 'Mississippi', 'Missouri', 'Montana', 'Nebraska', 'Nevada', 'New Hampshire', 'New Jersey', 'New Mexico', 'New York', 'North Carolina', 'North Dakota', 'Ohio', 'Oklahoma', 'Oregon', 'Pennsylvania', 'Rhode Island', 'South Carolina', 'South Dakota', 'Tennessee', 'Texas', 'Utah', 'Vermont', 'Virginia', 'Washington', 'West Virginia', 'Wisconsin', 'Wyoming', 'North East England', 'North West England', 'Yorkshire and the Humber', 'East Midlands', 'West Midlands', 'East of England', 'Greater London', 'South East England', 'South West England', 'Wales', 'Aguascalientes', 'Baja California', 'Baja California Sur', 'Campeche', 'Coahuila', 'Colima', 'Chiapas', 'Chihuahua', 'Mexico City', 'Durango', 'Guanajuato', 'Guerrero', 'Hidalgo', 'Jalisco', 'México', 'Michoacán de Ocampo', 'Morelos', 'Nayarit', 'Nuevo León', 'Oaxaca', 'Puebla', 'Querétaro', 'Quintana Roo', 'San Luis Potosí', 'Sinaloa', 'Sonora', 'Tabasco', 'Tamaulipas', 'Tlaxcala', 'Veracruz de Ignacio de la Llave', 'Yucatán', 'Zacatecas', 'Aceh', 'North Sumatra', 'West Sumatra', 'Riau', 'Jambi', 'South Sumatra', 'Bengkulu', 'Lampung', 'Bangka-Belitung Islands', 'Riau Islands', 'North Kalimantan', 'Jakarta', 'West Java', 'Central Java', 'Yogyakarta', 'East Java', 'Banten', 'Bali', 'West Nusa Tenggara', 'East Nusa Tenggara', 'West Kalimantan', 'Central Kalimantan', 'South Kalimantan', 'East Kalimantan', 'North Sulawesi', 'Central Sulawesi', 'South Sulawesi', 'Southeast Sulawesi', 'Gorontalo', 'West Sulawesi', 'Maluku', 'North Maluku', 'West Papua', 'Papua', 'European Union', 'England', 'Acre', 'Alagoas', 'Amazonas', 'Amapá', 'Bahia', 'Ceará', 'Distrito Federal', 'Espírito Santo', 'Goiás', 'Maranhão', 'Minas Gerais', 'Mato Grosso do Sul', 'Mato Grosso', 'Pará', 'Paraíba', 'Paraná', 'Pernambuco', 'Piaui', 'Rio de Janeiro', 'Rio Grande do Norte', 'Rondônia', 'Roraima', 'Rio Grande do Sul', 'Santa Catarina', 'Sergipe', 'São Paulo', 'Tocantins', 'Sweden except Stockholm', 'Stockholm', 'Hokkaidō', 'Aomori', 'Iwate', 'Miyagi', 'Akita', 'Yamagata', 'Fukushima', 'Ibaraki', 'Tochigi', 'Gunma', 'Saitama', 'Chiba', 'Tōkyō', 'Kanagawa', 'Niigata', 'Toyama', 'Ishikawa', 'Fukui', 'Yamanashi', 'Nagano', 'Gifu', 'Shizuoka', 'Aichi', 'Mie', 'Shiga', 'Kyōto', 'Ōsaka', 'Hyōgo', 'Nara', 'Wakayama', 'Tottori', 'Shimane', 'Okayama', 'Hiroshima', 'Yamaguchi', 'Tokushima', 'Kagawa', 'Ehime', 'Kōchi', 'Fukuoka', 'Saga', 'Nagasaki', 'Kumamoto', 'Ōita', 'Miyazaki', 'Kagoshima', 'Okinawa', 'Baringo', 'Bomet', 'Bungoma', 'Busia', 'Elgeyo-Marakwet', 'Embu', 'Garissa', 'HomaBay', 'Isiolo', 'Kajiado', 'Kakamega', 'Kericho', 'Kiambu', 'Kilifi', 'Kirinyaga', 'Kisii', 'Kisumu', 'Kitui', 'Kwale', 'Laikipia', 'Lamu', 'Machakos', 'Makueni', 'Mandera', 'Marsabit', 'Meru', 'Migori', 'Mombasa', \"Murang'a\", 'Nairobi', 'Nakuru', 'Nandi', 'Narok', 'Nyamira', 'Nyandarua', 'Nyeri', 'Samburu', 'Siaya', 'TaitaTaveta', 'TanaRiver', 'TharakaNithi', 'TransNzoia', 'Turkana', 'UasinGishu', 'Vihiga', 'Wajir', 'WestPokot', 'Commonwealth', 'Commonwealth High Income', 'Commonwealth Middle Income', 'Commonwealth Low Income', 'Africa', 'America', 'Asia', 'Europe', 'African Region', 'Region of the Americas', 'South-East Asia Region', 'European Region', 'Eastern Mediterranean Region', 'Western Pacific Region', 'World Bank High Income', 'World Bank Upper Middle Income', 'World Bank Lower Middle Income', 'World Bank Low Income', 'OECD Countries', 'G20', 'African Union', 'Four World Regions', 'World Bank Income Levels', 'High-middle SDI', 'High SDI', 'Low-middle SDI', 'Low SDI', 'North America', 'Middle SDI', 'Nordic Region', 'Darlington', 'Northumberland', 'Stockton-on-Tees', 'Newcastle upon Tyne', 'North Tyneside', 'Redcar and Cleveland', 'County Durham', 'Gateshead', 'Middlesbrough', 'South Tyneside', 'Sunderland', 'Hartlepool', 'Cheshire East', 'Stockport', 'Trafford', 'Cheshire West and Chester', 'Sefton', 'Lancashire', 'Cumbria', 'Bolton', 'Wirral', 'Bury', 'St Helens', 'Warrington', 'Oldham', 'Rochdale', 'Wigan', 'Halton', 'Liverpool', 'Tameside', 'Salford', 'Blackburn with Darwen', 'Knowsley', 'Blackpool', 'Manchester', 'North Yorkshire', 'East Riding of Yorkshire', 'York', 'North East Lincolnshire', 'Calderdale', 'North Lincolnshire', 'Bradford', 'Kirklees', 'Leeds', 'Sheffield', 'Wakefield', 'Rotherham', 'Doncaster', 'Kingston upon Hull, City of', 'Barnsley', 'Northamptonshire', 'Leicestershire', 'Lincolnshire', 'Rutland', 'Derby', 'Derbyshire', 'Nottinghamshire', 'Nottingham', 'Leicester', 'Warwickshire', 'Herefordshire, County of', 'Solihull', 'Shropshire', 'Worcestershire', 'Staffordshire', 'Dudley', 'Coventry', 'Telford and Wrekin', 'Stoke-on-Trent', 'Walsall', 'Wolverhampton', 'Birmingham', 'Sandwell', 'Bedford', 'Central Bedfordshire', 'Suffolk', 'Hertfordshire', 'Essex', 'Cambridgeshire', 'Thurrock', 'Norfolk', 'Southend-on-Sea', 'Peterborough', 'Luton', 'Richmond upon Thames', 'Kensington and Chelsea', 'Barnet', 'Westminster', 'Bromley', 'Bexley', 'Redbridge', 'Merton', 'Brent', 'Hillingdon', 'Havering', 'Kingston upon Thames', 'Sutton', 'Harrow', 'Enfield', 'Croydon', 'Hammersmith and Fulham', 'Ealing', 'Greenwich', 'Wandsworth', 'Waltham Forest', 'Camden', 'Lambeth', 'Lewisham', 'Hounslow', 'Southwark', 'Newham', 'Barking and Dagenham', 'Haringey', 'Hackney', 'Islington', 'Tower Hamlets', 'Wokingham', 'Buckinghamshire', 'Surrey', 'Windsor and Maidenhead', 'West Berkshire', 'Hampshire', 'Bracknell Forest', 'West Sussex', 'Oxfordshire', 'Reading', 'Kent', 'Brighton and Hove', 'Medway', 'East Sussex', 'Portsmouth', 'Isle of Wight', 'Milton Keynes', 'Southampton', 'Slough', 'South Gloucestershire', 'Dorset', 'Wiltshire', 'North Somerset', 'Devon', 'Poole', 'Bath and North East Somerset', 'Gloucestershire', 'Somerset', 'Swindon', 'Torbay', 'Bristol, City of', 'Bournemouth', 'Cornwall', 'Plymouth']\n"
     ]
    }
   ],
   "source": [
    "# get all countries in main dataset\n",
    "countries2 = []\n",
    "for country in df[\"location_name\"].unique():\n",
    "    if country not in [\"South Asia\"]:\n",
    "        countries2.append(country)\n",
    "\n",
    "print(len(countries2))\n",
    "print(countries2)"
   ]
  },
  {
   "cell_type": "code",
   "execution_count": 31,
   "id": "252af3a3",
   "metadata": {
    "scrolled": true
   },
   "outputs": [],
   "source": [
    "death_rates_young2 = np.zeros(len(countries2))\n",
    "death_rates_old2 = np.zeros(len(countries2))\n",
    "\n",
    "for i, country in enumerate(countries2):\n",
    "    \n",
    "    death_rates_young2[i] = float(df[(df[\"location_name\"] == country) & (df[\"age_group_id\"] == 1) &\n",
    "               (df[\"sex_name\"] == \"both\") & (df[\"year_id\"] == 2019)][\"val\"])\n",
    "    \n",
    "    death_rates_old2[i] = float(df[(df[\"location_name\"] == country) & (df[\"age_group_id\"] == 199) &\n",
    "               (df[\"sex_name\"] == \"both\") & (df[\"year_id\"] == 2019)][\"val\"])"
   ]
  },
  {
   "cell_type": "code",
   "execution_count": 32,
   "id": "b722c5e7",
   "metadata": {},
   "outputs": [
    {
     "name": "stdout",
     "output_type": "stream",
     "text": [
      "[236 197 163 172 181 169 206 165 154 201  23 202 162 204 164 175 239 171\n",
      " 173 111 205 178 159 194   4 166 195 207 203 210]\n"
     ]
    }
   ],
   "source": [
    "# https://en.wikipedia.org/wiki/Social_Progress_Index\n",
    "# Social Progress Index\n",
    "\n",
    "low_spis = np.zeros(30, dtype=int)\n",
    "low_spis[0] = np.where(np.array(countries2) == \"South Sudan\")[0]\n",
    "low_spis[1] = np.where(np.array(countries2) == \"Chad\")[0]\n",
    "low_spis[2] = np.where(np.array(countries2) == \"Central African Republic\")[0]\n",
    "low_spis[3] = np.where(np.array(countries2) == \"Eritrea\")[0]\n",
    "low_spis[4] = np.where(np.array(countries2) == \"Somalia\")[0]\n",
    "low_spis[5] = np.where(np.array(countries2) == \"Burundi\")[0]\n",
    "low_spis[6] = np.where(np.array(countries2) == \"Niger\")[0]\n",
    "low_spis[7] = np.where(np.array(countries2) == \"Democratic Republic of the Congo\")[0]\n",
    "low_spis[8] = np.where(np.array(countries2) == \"Afghanistan\")[0]\n",
    "low_spis[9] = np.where(np.array(countries2) == \"Guinea\")[0]\n",
    "low_spis[10] = np.where(np.array(countries2) == \"Papua New Guinea\")[0]\n",
    "low_spis[11] = np.where(np.array(countries2) == \"Guinea-Bissau\")[0]\n",
    "low_spis[12] = np.where(np.array(countries2) == \"Angola\")[0]\n",
    "low_spis[13] = np.where(np.array(countries2) == \"Mali\")[0]\n",
    "low_spis[14] = np.where(np.array(countries2) == \"Congo\")[0]\n",
    "low_spis[15] = np.where(np.array(countries2) == \"Madagascar\")[0]\n",
    "low_spis[16] = np.where(np.array(countries2) == \"Sudan\")[0]\n",
    "low_spis[17] = np.where(np.array(countries2) == \"Djibouti\")[0]\n",
    "low_spis[18] = np.where(np.array(countries2) == \"Ethiopia\")[0]\n",
    "low_spis[19] = np.where(np.array(countries2) == \"Haiti\")[0]\n",
    "low_spis[20] = np.where(np.array(countries2) == \"Mauritania\")[0]\n",
    "low_spis[21] = np.where(np.array(countries2) == \"Mozambique\")[0]\n",
    "low_spis[22] = np.where(np.array(countries2) == \"Pakistan\")[0]\n",
    "low_spis[23] = np.where(np.array(countries2) == \"Burkina Faso\")[0]\n",
    "low_spis[24] = np.where(np.array(countries2) == \"Democratic People's Republic of Korea\")[0]\n",
    "low_spis[25] = np.where(np.array(countries2) == \"Equatorial Guinea\")[0]\n",
    "low_spis[26] = np.where(np.array(countries2) == \"Cameroon\")[0]\n",
    "low_spis[27] = np.where(np.array(countries2) == \"Nigeria\")[0]\n",
    "low_spis[28] = np.where(np.array(countries2) == \"Liberia\")[0]\n",
    "low_spis[29] = np.where(np.array(countries2) == \"Sierra Leone\")[0]\n",
    "\n",
    "print(low_spis)"
   ]
  },
  {
   "cell_type": "code",
   "execution_count": 35,
   "id": "abc9dd7b",
   "metadata": {},
   "outputs": [
    {
     "data": {
      "image/png": "[encoded data removed]",
      "text/plain": [
       "<Figure size 432x288 with 1 Axes>"
      ]
     },
     "metadata": {
      "needs_background": "light"
     },
     "output_type": "display_data"
    }
   ],
   "source": [
    "plt.bar(np.arange(len(death_rates_young2[low_spis]))+0.2, death_rates_young2[low_spis], width=0.4)\n",
    "plt.bar(np.arange(len(death_rates_old2[low_spis]))-0.2, death_rates_old2[low_spis], width=0.4)\n",
    "plt.show()"
   ]
  },
  {
   "cell_type": "code",
   "execution_count": 38,
   "id": "70881689",
   "metadata": {},
   "outputs": [
    {
     "data": {
      "text/plain": [
       "{'bodies': [<matplotlib.collections.PolyCollection at 0x7fe657e653a0>,\n",
       "  <matplotlib.collections.PolyCollection at 0x7fe657e656a0>,\n",
       "  <matplotlib.collections.PolyCollection at 0x7fe657e659a0>,\n",
       "  <matplotlib.collections.PolyCollection at 0x7fe657e65ca0>],\n",
       " 'cmaxes': <matplotlib.collections.LineCollection at 0x7fe65dcfdac0>,\n",
       " 'cmins': <matplotlib.collections.LineCollection at 0x7fe65db641f0>,\n",
       " 'cbars': <matplotlib.collections.LineCollection at 0x7fe65db64580>}"
      ]
     },
     "execution_count": 38,
     "metadata": {},
     "output_type": "execute_result"
    },
    {
     "data": {
      "image/png": "[encoded data removed]",
      "text/plain": [
       "<Figure size 432x288 with 1 Axes>"
      ]
     },
     "metadata": {
      "needs_background": "light"
     },
     "output_type": "display_data"
    }
   ],
   "source": [
    "plt.violinplot((death_rates_young[high_spis], \n",
    "                death_rates_young2[low_spis],\n",
    "                death_rates_old[high_spis], \n",
    "                death_rates_old2[low_spis]),\n",
    "              points=30)"
   ]
  },
  {
   "cell_type": "code",
   "execution_count": null,
   "id": "dbb2ae5a",
   "metadata": {},
   "outputs": [],
   "source": []
  }
 ],
 "metadata": {
  "kernelspec": {
   "display_name": "Python 3",
   "language": "python",
   "name": "python3"
  },
  "language_info": {
   "codemirror_mode": {
    "name": "ipython",
    "version": 3
   },
   "file_extension": ".py",
   "mimetype": "text/x-python",
   "name": "python",
   "nbconvert_exporter": "python",
   "pygments_lexer": "ipython3",
   "version": "3.8.8"
  }
 },
 "nbformat": 4,
 "nbformat_minor": 5
}
